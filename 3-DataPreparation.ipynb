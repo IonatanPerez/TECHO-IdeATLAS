{
 "cells": [
  {
   "cell_type": "markdown",
   "id": "bd07c380",
   "metadata": {},
   "source": [
    "# About\n",
    "\n",
    "On this notebook we will run teh code that prepare the data for the processing."
   ]
  },
  {
   "cell_type": "code",
   "execution_count": 2,
   "id": "8b756581",
   "metadata": {},
   "outputs": [],
   "source": [
    "import Core.settings\n",
    "import Core.tools"
   ]
  }
 ],
 "metadata": {
  "kernelspec": {
   "display_name": ".venv",
   "language": "python",
   "name": "python3"
  },
  "language_info": {
   "codemirror_mode": {
    "name": "ipython",
    "version": 3
   },
   "file_extension": ".py",
   "mimetype": "text/x-python",
   "name": "python",
   "nbconvert_exporter": "python",
   "pygments_lexer": "ipython3",
   "version": "3.13.2"
  }
 },
 "nbformat": 4,
 "nbformat_minor": 5
}
