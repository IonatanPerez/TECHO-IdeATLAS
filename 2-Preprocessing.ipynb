{
 "cells": [
  {
   "cell_type": "markdown",
   "id": "19e59874",
   "metadata": {},
   "source": [
    "# About\n",
    "\n",
    "On previous notebooks we explore the data and we got into the conclusion that the "
   ]
  }
 ],
 "metadata": {
  "language_info": {
   "name": "python"
  }
 },
 "nbformat": 4,
 "nbformat_minor": 5
}
