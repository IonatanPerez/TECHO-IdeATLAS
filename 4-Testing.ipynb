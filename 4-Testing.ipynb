{
 "cells": [
  {
   "cell_type": "markdown",
   "id": "031ec639",
   "metadata": {},
   "source": [
    "# About\n",
    "\n",
    "On this notebook I will try to collect some testing cases. Many of the testing cases we already done and removed on other notebooks, but I will try to keep here some exploratory testing on results."
   ]
  }
 ],
 "metadata": {
  "language_info": {
   "name": "python"
  }
 },
 "nbformat": 4,
 "nbformat_minor": 5
}
